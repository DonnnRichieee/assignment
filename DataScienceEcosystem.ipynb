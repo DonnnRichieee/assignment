{
 "cells": [
  {
   "cell_type": "markdown",
   "id": "8b51c4fe-864c-47c4-863a-86119fd518c1",
   "metadata": {},
   "source": [
    "# Data Science Tools and Ecosystem"
   ]
  },
  {
   "cell_type": "markdown",
   "id": "e160cc87-3afc-47a1-80cd-e167f5f215a7",
   "metadata": {},
   "source": [
    "In this notebook, Data SCience Tools and Ecosystem are summarized."
   ]
  },
  {
   "cell_type": "markdown",
   "id": "5873a56a-7dba-43fc-a847-0d3f519458b5",
   "metadata": {},
   "source": [
    "Some of the popular languages that Data Scientists use are:\n",
    "1. Python\n",
    "2. R\n",
    "3. Julia\n",
    "4. Java\n",
    "5. Scala\n",
    "6. SQL (Structured Query Language)"
   ]
  },
  {
   "cell_type": "markdown",
   "id": "af6c3e9e-15db-4ee3-9bf3-68a67018630e",
   "metadata": {},
   "source": [
    "Some of the commonly used libraries used by Data Scientists include:\n",
    "1. Numpy\n",
    "2. Pandas\n",
    "3. Seaborn\n",
    "4. Matplotlib\n",
    "5. Tenserflow"
   ]
  },
  {
   "cell_type": "markdown",
   "id": "ac7bb6a7-7b6b-4278-8acc-924f063eae1d",
   "metadata": {},
   "source": [
    "|Data Science Tools|\n",
    "|--------|\n",
    "|MySQL|\n",
    "|Github|\n",
    "|PostgreSQL|\n",
    "|Redhat|\n",
    "|Git|\n",
    "|Gitlab|"
   ]
  },
  {
   "cell_type": "markdown",
   "id": "774c9137-db59-41d4-a78d-ff8d71b64d4a",
   "metadata": {},
   "source": [
    "### Below are a few examples of ealuating arithmetic in Python."
   ]
  },
  {
   "cell_type": "code",
   "execution_count": 2,
   "id": "bbc00809-4cb3-4a51-8606-dacb7b0ef110",
   "metadata": {
    "tags": []
   },
   "outputs": [
    {
     "data": {
      "text/plain": [
       "1782"
      ]
     },
     "execution_count": 2,
     "metadata": {},
     "output_type": "execute_result"
    }
   ],
   "source": [
    "(45 + 9) * (78 - 45)"
   ]
  },
  {
   "cell_type": "code",
   "execution_count": 3,
   "id": "394cfaff-3578-4790-8ea4-b755fda29c22",
   "metadata": {
    "tags": []
   },
   "outputs": [
    {
     "data": {
      "text/plain": [
       "124"
      ]
     },
     "execution_count": 3,
     "metadata": {},
     "output_type": "execute_result"
    }
   ],
   "source": [
    "69 + 78 - 23"
   ]
  },
  {
   "cell_type": "code",
   "execution_count": 4,
   "id": "43c1be17-dc2e-4ca5-bce6-967ddd4754df",
   "metadata": {
    "tags": []
   },
   "outputs": [
    {
     "data": {
      "text/plain": [
       "8813"
      ]
     },
     "execution_count": 4,
     "metadata": {},
     "output_type": "execute_result"
    }
   ],
   "source": [
    "45629 - 36816"
   ]
  },
  {
   "cell_type": "code",
   "execution_count": 5,
   "id": "ee65bd94-23cc-4868-8db6-067cc7931a25",
   "metadata": {
    "tags": []
   },
   "outputs": [
    {
     "data": {
      "text/plain": [
       "17"
      ]
     },
     "execution_count": 5,
     "metadata": {},
     "output_type": "execute_result"
    }
   ],
   "source": [
    "# This is a simple arithmetic expression to multiply then add integers\n",
    "(3*4)+5"
   ]
  },
  {
   "cell_type": "code",
   "execution_count": 6,
   "id": "44500f74-a3bf-4198-a270-fdc3e80529d9",
   "metadata": {
    "tags": []
   },
   "outputs": [],
   "source": [
    "# This will convert 200 minutes to hours by diving by 60\n",
    "minutes = 200\n",
    "hours = minutes / 60"
   ]
  },
  {
   "cell_type": "markdown",
   "id": "b18cf091-4a70-4947-a6da-1028b8b8c67a",
   "metadata": {},
   "source": [
    "**Objectives**\n",
    "\n",
    "- List popular programming languages for Data Science.\n",
    "- Discuss essential tools and libraries in the data science ecosystem.\n",
    "- Explore version control systems and their role in collaborative projects.\n",
    "- Illustrate the use of data visualization tools for analysis.\n",
    "- Demonstrate the importance of databases in data management.\n"
   ]
  },
  {
   "cell_type": "markdown",
   "id": "9d3bf2ca-8fa4-4933-9e14-cc139c0de86a",
   "metadata": {},
   "source": [
    "## Author\n",
    "Adeitan Richard Olawale"
   ]
  },
  {
   "cell_type": "code",
   "execution_count": null,
   "id": "a07983ec-e941-42fe-aa0c-aa6a1123a239",
   "metadata": {},
   "outputs": [],
   "source": []
  }
 ],
 "metadata": {
  "kernelspec": {
   "display_name": "Python 3 (ipykernel)",
   "language": "python",
   "name": "python3"
  },
  "language_info": {
   "codemirror_mode": {
    "name": "ipython",
    "version": 3
   },
   "file_extension": ".py",
   "mimetype": "text/x-python",
   "name": "python",
   "nbconvert_exporter": "python",
   "pygments_lexer": "ipython3",
   "version": "3.11.4"
  }
 },
 "nbformat": 4,
 "nbformat_minor": 5
}
